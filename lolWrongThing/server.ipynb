{
 "cells": [
  {
   "cell_type": "code",
   "execution_count": 1,
   "metadata": {},
   "outputs": [],
   "source": [
    "import pandas as pd\n",
    "from flask_cors import CORS\n",
    "from flask import Flask,jsonify,render_template\n",
    "import datetime"
   ]
  },
  {
   "cell_type": "code",
   "execution_count": 2,
   "metadata": {},
   "outputs": [],
   "source": [
    "data = pd.read_csv(r\"resources/data.csv\")"
   ]
  },
  {
   "cell_type": "code",
   "execution_count": 3,
   "metadata": {},
   "outputs": [],
   "source": [
    "def add_entry(entry):\n",
    "    data2 = pd.DataFrame([[value for key,value in entry]],columns=[\"id\",\"name\",\"territory_number\",\"checkout_date\",\"return_by_date\",\"return_date\",\"completed\"])\n",
    "    data = pd.concat([data,data2])"
   ]
  },
  {
   "cell_type": "code",
   "execution_count": 4,
   "metadata": {},
   "outputs": [],
   "source": [
    "def mark_entry_completed():\n",
    "    pass"
   ]
  },
  {
   "cell_type": "code",
   "execution_count": null,
   "metadata": {},
   "outputs": [],
   "source": []
  },
  {
   "cell_type": "code",
   "execution_count": 8,
   "metadata": {},
   "outputs": [
    {
     "name": "stdout",
     "output_type": "stream",
     "text": [
      " * Serving Flask app '__main__'\n",
      " * Debug mode: off\n"
     ]
    },
    {
     "name": "stderr",
     "output_type": "stream",
     "text": [
      "WARNING: This is a development server. Do not use it in a production deployment. Use a production WSGI server instead.\n",
      " * Running on http://127.0.0.1:5000\n",
      "Press CTRL+C to quit\n"
     ]
    }
   ],
   "source": [
    "app = Flask(__name__)\n",
    "CORS(app,resources={r\"/*\": {\"origins\": [\"https://turkishfilms.github.io\",\"127.0.0.1:5000\"]}})\n",
    "\n",
    "PASSWORD = 12\n",
    "@app.route(\"/\")\n",
    "def security():\n",
    "    return render_template('security.html')\n",
    "\n",
    "@app.route('/validation<password>')\n",
    "def validate(password):\n",
    "    print(type(password), type(PASSWORD), password == PASSWORD)\n",
    "    if (int(password) == PASSWORD): \n",
    "        print(\"jese\")\n",
    "        home()\n",
    "        return render_template('index.html')\n",
    "\n",
    "    else: return \"nope\"\n",
    "\n",
    "@app.route(\"/home\")\n",
    "def home():\n",
    "    print(\"wassup duder\")\n",
    "    return render_template('index.html')\n",
    "\n",
    "@app.route(\"/add<entry>\")\n",
    "def nowaybro(entry):\n",
    "    print(\"no\")\n",
    "    add_entry(entry)\n",
    "    return render_template('index.html')\n",
    "    \n",
    "@app.route('/completed<index>')\n",
    "def completething(index):\n",
    "    mark_entry_completed(index)\n",
    "    return render_template('index.html')\n",
    "\n",
    "if(__name__==\"__main__\"):\n",
    "    app.run()"
   ]
  },
  {
   "cell_type": "code",
   "execution_count": null,
   "metadata": {},
   "outputs": [],
   "source": []
  }
 ],
 "metadata": {
  "kernelspec": {
   "display_name": "Python 3",
   "language": "python",
   "name": "python3"
  },
  "language_info": {
   "codemirror_mode": {
    "name": "ipython",
    "version": 3
   },
   "file_extension": ".py",
   "mimetype": "text/x-python",
   "name": "python",
   "nbconvert_exporter": "python",
   "pygments_lexer": "ipython3",
   "version": "3.11.3"
  },
  "orig_nbformat": 4
 },
 "nbformat": 4,
 "nbformat_minor": 2
}
